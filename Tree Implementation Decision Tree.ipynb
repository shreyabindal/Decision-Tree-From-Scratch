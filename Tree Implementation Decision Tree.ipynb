{
 "cells": [
  {
   "cell_type": "markdown",
   "metadata": {},
   "source": [
    "### Import Statements"
   ]
  },
  {
   "cell_type": "code",
   "execution_count": 1,
   "metadata": {},
   "outputs": [],
   "source": [
    "import pandas as pd\n",
    "import numpy as np\n",
    "import matplotlib.pyplot as plt\n",
    "import random\n",
    "from sklearn.metrics import confusion_matrix, classification_report"
   ]
  },
  {
   "cell_type": "markdown",
   "metadata": {},
   "source": [
    "### Load Dataset"
   ]
  },
  {
   "cell_type": "code",
   "execution_count": 2,
   "metadata": {},
   "outputs": [],
   "source": [
    "df = pd.read_csv('iris.csv', header=None)\n",
    "df.columns = ['sepal_length', 'sepal_width', 'petal_length', 'petal_width', 'label']"
   ]
  },
  {
   "cell_type": "markdown",
   "metadata": {},
   "source": [
    "### Split dataset into train and test"
   ]
  },
  {
   "cell_type": "code",
   "execution_count": 3,
   "metadata": {},
   "outputs": [],
   "source": [
    "def train_test_split(df, test_size=0.25, random_state=None):\n",
    "    if random_state is not None:\n",
    "        random.seed(random_state)\n",
    "    \n",
    "    if isinstance(test_size, float):\n",
    "        test_size = int(test_size * df.shape[0])\n",
    "        \n",
    "    indices = df.index.tolist()\n",
    "    test_indices = random.sample(population=indices, k=test_size)\n",
    "    \n",
    "    test_df = df.iloc[test_indices, :]\n",
    "    train_df = df.drop(test_indices)\n",
    "    \n",
    "    return train_df, test_df"
   ]
  },
  {
   "cell_type": "code",
   "execution_count": 4,
   "metadata": {},
   "outputs": [
    {
     "data": {
      "text/plain": [
       "((113, 5), (37, 5))"
      ]
     },
     "execution_count": 4,
     "metadata": {},
     "output_type": "execute_result"
    }
   ],
   "source": [
    "train_df, test_df = train_test_split(df, random_state=1)\n",
    "train_df.shape, test_df.shape"
   ]
  },
  {
   "cell_type": "markdown",
   "metadata": {},
   "source": [
    "### Class Node - represents each node of the decision tree"
   ]
  },
  {
   "cell_type": "code",
   "execution_count": 5,
   "metadata": {},
   "outputs": [],
   "source": [
    "class Node:\n",
    "    def __init__(self, data, is_leaf=False):\n",
    "        self.is_leaf = is_leaf                                       \n",
    "        self.entropy = self.__calculate_entropy(data)                \n",
    "        self.samples= np.unique(data[:, -1], return_counts=True)[1]  \n",
    "        self.prediction = None                                       \n",
    "        self.left = None                                             \n",
    "        self.right = None\n",
    "        self.question = None                                         \n",
    "        self.gain_ratio = None                                       \n",
    "        self.split_col = None\n",
    "        self.split_col_name = None                                   \n",
    "        \n",
    "    def display(self):\n",
    "        for i in range(len(self.samples)):\n",
    "            if self.samples[i] > 0:\n",
    "                print(\"Count of\", i, \"=\", self.samples[i])\n",
    "\n",
    "        print(\"Current Entropy is =\", self.entropy)\n",
    "        if self.is_leaf == False:\n",
    "            print(\"Splitting on \" + str(self.split_col_name), \"with gain ratio\", str(self.gain_ratio))\n",
    "        else:\n",
    "            print(\"Reached leaf node\")\n",
    "        print()\n",
    "        \n",
    "    def __calculate_entropy(self, data):\n",
    "        counts = np.unique(data[:, -1], return_counts=True)[1]\n",
    "        probabilities = counts / counts.sum()\n",
    "\n",
    "        entropy = -sum(probabilities * np.log2(probabilities))\n",
    "        if entropy == -0.0:\n",
    "            entropy = 0.0\n",
    "        return entropy"
   ]
  },
  {
   "cell_type": "code",
   "execution_count": 6,
   "metadata": {},
   "outputs": [],
   "source": [
    "class DecisionTree:\n",
    "    def __init__(self):\n",
    "        self.root = None  \n",
    "        \n",
    "    # calculates entropy of a node\n",
    "    def __calculate_entropy(self, data):\n",
    "        counts = np.unique(data[:, -1], return_counts=True)[1]\n",
    "        probabilities = counts / counts.sum()\n",
    "\n",
    "        entropy = -sum(probabilities * np.log2(probabilities))\n",
    "        if entropy == -0.0:\n",
    "            entropy = 0.0\n",
    "        return entropy\n",
    "        \n",
    "    # calculates overall entropy after split\n",
    "    def __calculate_overall_entropy(self, data_below, data_above):\n",
    "        p_data_below = len(data_below) / (len(data_below) + len(data_above))\n",
    "        p_data_above = len(data_above) / (len(data_below) + len(data_above))\n",
    "\n",
    "        overall_entropy = ((p_data_below * self.__calculate_entropy(data_below)) + \n",
    "                                    (p_data_above * self.__calculate_entropy(data_above)))\n",
    "        return overall_entropy\n",
    "        \n",
    "    # calculates gain_ratio of the split\n",
    "    def __gain_ratio(self, node, data_below, data_above):\n",
    "        info_gain = node.entropy - self.__calculate_overall_entropy(data_below, data_above)\n",
    "        \n",
    "        d_data_below = len(data_below) / (len(data_below) + len(data_above))\n",
    "        d_data_above = len(data_above) / (len(data_below) + len(data_above))\n",
    "\n",
    "        split_number = -(d_data_below * np.log2(d_data_below) + d_data_above * np.log2(d_data_above))\n",
    "\n",
    "        gain_ratio = info_gain / split_number\n",
    "        return gain_ratio\n",
    "        \n",
    "    # returns the data after split\n",
    "    def __split_data(self, data, split_column, split_value):\n",
    "        data_below = data[data[:, split_column] <= split_value]\n",
    "        data_above = data[data[:, split_column] > split_value]\n",
    "\n",
    "        return data_below, data_above\n",
    "        \n",
    "    # checks which split results in max decrease in entropy\n",
    "    def __determine_best_split(self, data, potential_splits):\n",
    "        overall_entropy = 999\n",
    "\n",
    "        for column_index in potential_splits:\n",
    "            for value in potential_splits[column_index]:\n",
    "                data_below, data_above = self.__split_data(data, column_index, value)\n",
    "                curr_entropy = self.__calculate_overall_entropy(data_below, data_above)\n",
    "\n",
    "                if curr_entropy <= overall_entropy:\n",
    "                    overall_entropy = curr_entropy\n",
    "                    best_split_col = column_index\n",
    "                    best_split_value = value\n",
    "\n",
    "        return best_split_col, best_split_value\n",
    "        \n",
    "    # Potential splits is a dictionary {index of column : list of all possible split values for that column}\n",
    "    def __get_potential_splits(self, data):\n",
    "        potential_splits = {}\n",
    "\n",
    "        for column_index in range(data.shape[1] - 1):\n",
    "            potential_splits[column_index] = []\n",
    "\n",
    "            values = data[:, column_index]\n",
    "            unique_values = np.unique(values)\n",
    "\n",
    "            for index in range(1, (len(unique_values))):\n",
    "                current_value = unique_values[index]\n",
    "                previous_value = unique_values[index-1]\n",
    "\n",
    "                potential_split = (current_value + previous_value) / 2\n",
    "                potential_splits[column_index].append(potential_split)\n",
    "\n",
    "        return potential_splits\n",
    "    \n",
    "    # to check if there are any possible splits available\n",
    "    def __is_splitting_possible(self, potential_splits):\n",
    "        for k, v in potential_splits.items():\n",
    "            if len(v) != 0:\n",
    "                return True\n",
    "        return False\n",
    "      \n",
    "    def fit(self, df):\n",
    "        self.root = self.__train_tree(df.values, df.columns)\n",
    "        \n",
    "    # private function for recursion of training\n",
    "    def __train_tree(self, data, columns=None):\n",
    "        node = Node(data)                        \n",
    "        \n",
    "        potential_splits = self.__get_potential_splits(data)  \n",
    "        \n",
    "        # base case - if node is pure or there are no further splits possible\n",
    "        if len(np.unique(data[:, -1])) == 1 or self.__is_splitting_possible(potential_splits) == False:\n",
    "            node.is_leaf = True\n",
    "            classes, counts = np.unique(data[:, -1], return_counts=True)\n",
    "            node.prediction = classes[counts.argmax()]\n",
    "            return node\n",
    "        \n",
    "        # recursive part - when node is not pure\n",
    "        node.is_leaf = False\n",
    "        split_col, split_val = self.__determine_best_split(data, potential_splits)  \n",
    "        data_below, data_above = self.__split_data(data, split_col, split_val)\n",
    "\n",
    "        node.left = self.__train_tree(data_below, columns)           \n",
    "        node.right = self.__train_tree(data_above, columns)         \n",
    "\n",
    "        \n",
    "        # Updating parameters of node\n",
    "        node.gain_ratio = self.__gain_ratio(node, data_below, data_above)\n",
    "        node.split_col = split_col\n",
    "        node.split_col_name = columns[split_col]\n",
    "        node.question = str(split_col) + \" <= \" + str(split_val)\n",
    "\n",
    "        return node  \n",
    "    \n",
    "    def display(self, node=None, level=0):\n",
    "        if node is None:\n",
    "            node = self.root\n",
    "            \n",
    "        print(\"Level\", level)\n",
    "        node.display()\n",
    "        \n",
    "        if node.right is not None:\n",
    "            self.display(node.right, level+1)\n",
    "        if node.left is not None:\n",
    "            self.display(node.left, level+1)\n",
    "    \n",
    "    # predicts for the entire dataframe\n",
    "    def predict(self, df_test):\n",
    "        if isinstance(df_test, pd.DataFrame):\n",
    "            data = df_test.values\n",
    "        else:\n",
    "            data = df_test\n",
    "        rv = []\n",
    "        for arr in data:\n",
    "            classification = self.__classify(arr)\n",
    "            rv.append(classification)\n",
    "            \n",
    "        return rv\n",
    "        \n",
    "    # internal function to predict for one row\n",
    "    def __classify(self, arr, node=None):\n",
    "        if node is None:\n",
    "            node = self.root\n",
    "            \n",
    "        if node.is_leaf == True:\n",
    "            return node.prediction\n",
    "        else:\n",
    "            question = node.question\n",
    "            col, _, val = question.split()\n",
    "            \n",
    "            if arr[int(col)] <= float(val):   \n",
    "                return self.__classify(arr, node.left)\n",
    "            else:\n",
    "                return self.__classify(arr, node.right)\n",
    "    \n",
    "    # accuracy = total correct perdictions / total predictions\n",
    "    def accuracy(self, y_pred, y_test):        \n",
    "        is_correct = (y_pred == y_test)\n",
    "        return len(is_correct[is_correct == True]) / len(y_test)"
   ]
  },
  {
   "cell_type": "markdown",
   "metadata": {},
   "source": [
    "### Creating object of Decision Tree and training the model"
   ]
  },
  {
   "cell_type": "code",
   "execution_count": 7,
   "metadata": {},
   "outputs": [
    {
     "name": "stdout",
     "output_type": "stream",
     "text": [
      "Level 0\n",
      "Count of 0 = 37\n",
      "Count of 1 = 37\n",
      "Count of 2 = 39\n",
      "Current Entropy is = 1.5845131607145686\n",
      "Splitting on petal_width with gain ratio 1.0000000000000002\n",
      "\n",
      "Level 1\n",
      "Count of 0 = 37\n",
      "Count of 1 = 39\n",
      "Current Entropy is = 0.9995003941817588\n",
      "Splitting on petal_length with gain ratio 0.6519085664993656\n",
      "\n",
      "Level 2\n",
      "Count of 0 = 3\n",
      "Count of 1 = 37\n",
      "Current Entropy is = 0.38431154412649704\n",
      "Splitting on petal_width with gain ratio 0.31672885635448317\n",
      "\n",
      "Level 3\n",
      "Count of 0 = 33\n",
      "Current Entropy is = 0.0\n",
      "Reached leaf node\n",
      "\n",
      "Level 3\n",
      "Count of 0 = 3\n",
      "Count of 1 = 4\n",
      "Current Entropy is = 0.9852281360342515\n",
      "Splitting on petal_length with gain ratio 0.5294617736385714\n",
      "\n",
      "Level 4\n",
      "Count of 0 = 3\n",
      "Current Entropy is = 0.0\n",
      "Reached leaf node\n",
      "\n",
      "Level 4\n",
      "Count of 0 = 3\n",
      "Count of 1 = 1\n",
      "Current Entropy is = 0.8112781244591328\n",
      "Splitting on sepal_width with gain ratio 1.0\n",
      "\n",
      "Level 5\n",
      "Count of 0 = 3\n",
      "Current Entropy is = 0.0\n",
      "Reached leaf node\n",
      "\n",
      "Level 5\n",
      "Count of 0 = 1\n",
      "Current Entropy is = 0.0\n",
      "Reached leaf node\n",
      "\n",
      "Level 2\n",
      "Count of 0 = 34\n",
      "Count of 1 = 2\n",
      "Current Entropy is = 0.3095434291503252\n",
      "Splitting on petal_width with gain ratio 0.5630963943142383\n",
      "\n",
      "Level 3\n",
      "Count of 0 = 1\n",
      "Count of 1 = 2\n",
      "Current Entropy is = 0.9182958340544896\n",
      "Splitting on sepal_width with gain ratio 1.0\n",
      "\n",
      "Level 4\n",
      "Count of 0 = 1\n",
      "Current Entropy is = 0.0\n",
      "Reached leaf node\n",
      "\n",
      "Level 4\n",
      "Count of 0 = 2\n",
      "Current Entropy is = 0.0\n",
      "Reached leaf node\n",
      "\n",
      "Level 3\n",
      "Count of 0 = 33\n",
      "Current Entropy is = 0.0\n",
      "Reached leaf node\n",
      "\n",
      "Level 1\n",
      "Count of 0 = 37\n",
      "Current Entropy is = 0.0\n",
      "Reached leaf node\n",
      "\n"
     ]
    }
   ],
   "source": [
    "clf = DecisionTree()\n",
    "clf.fit(train_df)\n",
    "clf.display() "
   ]
  },
  {
   "cell_type": "markdown",
   "metadata": {},
   "source": [
    "### Accuracy of test data"
   ]
  },
  {
   "cell_type": "code",
   "execution_count": 8,
   "metadata": {},
   "outputs": [
    {
     "data": {
      "text/plain": [
       "0.972972972972973"
      ]
     },
     "execution_count": 8,
     "metadata": {},
     "output_type": "execute_result"
    }
   ],
   "source": [
    "y_pred = clf.predict(test_df)\n",
    "clf.accuracy(y_pred, test_df.iloc[:, -1])"
   ]
  },
  {
   "cell_type": "markdown",
   "metadata": {},
   "source": [
    "### Confusion Matrix"
   ]
  },
  {
   "cell_type": "code",
   "execution_count": 9,
   "metadata": {},
   "outputs": [
    {
     "data": {
      "text/plain": [
       "array([[13,  0,  0],\n",
       "       [ 0, 12,  1],\n",
       "       [ 0,  0, 11]], dtype=int64)"
      ]
     },
     "execution_count": 9,
     "metadata": {},
     "output_type": "execute_result"
    }
   ],
   "source": [
    "confusion_matrix(y_true=test_df.values[:, -1], y_pred=y_pred)"
   ]
  },
  {
   "cell_type": "markdown",
   "metadata": {},
   "source": [
    "### CLassification Report"
   ]
  },
  {
   "cell_type": "code",
   "execution_count": 10,
   "metadata": {},
   "outputs": [
    {
     "name": "stdout",
     "output_type": "stream",
     "text": [
      "                 precision    recall  f1-score   support\n",
      "\n",
      "    Iris-setosa       1.00      1.00      1.00        13\n",
      "Iris-versicolor       1.00      0.92      0.96        13\n",
      " Iris-virginica       0.92      1.00      0.96        11\n",
      "\n",
      "      micro avg       0.97      0.97      0.97        37\n",
      "      macro avg       0.97      0.97      0.97        37\n",
      "   weighted avg       0.98      0.97      0.97        37\n",
      "\n"
     ]
    }
   ],
   "source": [
    "print(classification_report(y_true=test_df.values[:, -1], y_pred=y_pred))"
   ]
  },
  {
   "cell_type": "markdown",
   "metadata": {},
   "source": [
    "## Decision Boundary\n",
    "- For this, the tree is built along two columns only - Second and Third"
   ]
  },
  {
   "cell_type": "markdown",
   "metadata": {},
   "source": [
    "### Load data"
   ]
  },
  {
   "cell_type": "code",
   "execution_count": 11,
   "metadata": {},
   "outputs": [],
   "source": [
    "from sklearn import datasets\n",
    "iris = datasets.load_iris()\n",
    "data = pd.DataFrame(iris.data)\n",
    "data['label'] = iris.target\n",
    "data.label = data.label.astype(int)"
   ]
  },
  {
   "cell_type": "markdown",
   "metadata": {},
   "source": [
    "### Train Test Split"
   ]
  },
  {
   "cell_type": "code",
   "execution_count": 12,
   "metadata": {},
   "outputs": [],
   "source": [
    "small_train_df, small_test_df = train_test_split(data.iloc[:, [1, 2, -1]], test_size=0.25, random_state=1)\n",
    "small_train_df = data.iloc[:, [1, 2, -1]]"
   ]
  },
  {
   "cell_type": "markdown",
   "metadata": {},
   "source": [
    "### Visualization of data"
   ]
  },
  {
   "cell_type": "code",
   "execution_count": 13,
   "metadata": {},
   "outputs": [
    {
     "data": {
      "text/plain": [
       "<matplotlib.collections.PathCollection at 0x1dbd1dffba8>"
      ]
     },
     "execution_count": 13,
     "metadata": {},
     "output_type": "execute_result"
    },
    {
     "data": {
      "image/png": "[encoded data removed]",
      "text/plain": [
       "<Figure size 432x288 with 1 Axes>"
      ]
     },
     "metadata": {
      "needs_background": "light"
     },
     "output_type": "display_data"
    }
   ],
   "source": [
    "plt.scatter(small_train_df.values[:, 0], small_train_df.values[:, 1], c=small_train_df.values[:, -1])"
   ]
  },
  {
   "cell_type": "markdown",
   "metadata": {},
   "source": [
    "### Creating and Traing Decision Tree"
   ]
  },
  {
   "cell_type": "code",
   "execution_count": 14,
   "metadata": {},
   "outputs": [],
   "source": [
    "clf2 = DecisionTree()\n",
    "clf2.fit(small_train_df)"
   ]
  },
  {
   "cell_type": "markdown",
   "metadata": {},
   "source": [
    "### Plotting Decision Boundary"
   ]
  },
  {
   "cell_type": "code",
   "execution_count": 15,
   "metadata": {},
   "outputs": [],
   "source": [
    "def makegrid(x1, x2, h=0.02):\n",
    "    x1_min, x1_max = x1.min() - 1, x1.max() + 1\n",
    "    x2_min, x2_max = x1.min() - 1, x2.max() + 2\n",
    "    \n",
    "    a = np.arange(x1_min, x1_max, h)\n",
    "    b = np.arange(x2_min, x2_max, h)\n",
    "    \n",
    "    xx, yy = np.meshgrid(a, b)\n",
    "    return xx, yy"
   ]
  },
  {
   "cell_type": "code",
   "execution_count": 16,
   "metadata": {},
   "outputs": [
    {
     "data": {
      "text/plain": [
       "((395, 220), (395, 220))"
      ]
     },
     "execution_count": 16,
     "metadata": {},
     "output_type": "execute_result"
    }
   ],
   "source": [
    "a, b = makegrid(small_train_df.values[:, 0], small_train_df.values[:, 1])\n",
    "x1 = a.ravel()\n",
    "x2 = b.ravel() # converts 2D to 1D\n",
    "a.shape, b.shape"
   ]
  },
  {
   "cell_type": "code",
   "execution_count": 17,
   "metadata": {},
   "outputs": [
    {
     "data": {
      "image/png": "[encoded data removed]",
      "text/plain": [
       "<Figure size 432x288 with 1 Axes>"
      ]
     },
     "metadata": {
      "needs_background": "light"
     },
     "output_type": "display_data"
    }
   ],
   "source": [
    "plot_data = np.c_[x1, x2]\n",
    "predictions = clf2.predict(plot_data)\n",
    "plt.scatter(x1, x2, c=predictions)\n",
    "plt.show()"
   ]
  },
  {
   "cell_type": "code",
   "execution_count": null,
   "metadata": {},
   "outputs": [],
   "source": []
  }
 ],
 "metadata": {
  "kernelspec": {
   "display_name": "Python 3",
   "language": "python",
   "name": "python3"
  },
  "language_info": {
   "codemirror_mode": {
    "name": "ipython",
    "version": 3
   },
   "file_extension": ".py",
   "mimetype": "text/x-python",
   "name": "python",
   "nbconvert_exporter": "python",
   "pygments_lexer": "ipython3",
   "version": "3.6.5"
  }
 },
 "nbformat": 4,
 "nbformat_minor": 2
}
